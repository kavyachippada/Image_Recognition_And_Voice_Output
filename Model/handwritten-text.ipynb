{
 "cells": [
  {
   "cell_type": "code",
   "execution_count": 1,
   "metadata": {
    "execution": {
     "iopub.execute_input": "2025-04-06T02:34:10.434752Z",
     "iopub.status.busy": "2025-04-06T02:34:10.434434Z",
     "iopub.status.idle": "2025-04-06T02:34:19.083421Z",
     "shell.execute_reply": "2025-04-06T02:34:19.082422Z",
     "shell.execute_reply.started": "2025-04-06T02:34:10.434727Z"
    },
    "trusted": true
   },
   "outputs": [
    {
     "name": "stdout",
     "output_type": "stream",
     "text": [
      "Collecting imutils\n",
      "  Downloading imutils-0.5.4.tar.gz (17 kB)\n",
      "Building wheels for collected packages: imutils\n",
      "  Building wheel for imutils (setup.py) ... \u001b[?25ldone\n",
      "\u001b[?25h  Created wheel for imutils: filename=imutils-0.5.4-py3-none-any.whl size=25858 sha256=e56b68dc773f3ad6130681f4415cd9c2e3f2881ae8315c7c4360f845ba3ccc0e\n",
      "  Stored in directory: /root/.cache/pip/wheels/86/d7/0a/4923351ed1cec5d5e24c1eaf8905567b02a0343b24aa873df2\n",
      "Successfully built imutils\n",
      "Installing collected packages: imutils\n",
      "Successfully installed imutils-0.5.4\n",
      "\u001b[33mWARNING: You are using pip version 20.3.1; however, version 24.0 is available.\n",
      "You should consider upgrading via the '/opt/conda/bin/python3.7 -m pip install --upgrade pip' command.\u001b[0m\n"
     ]
    }
   ],
   "source": [
    "!pip install imutils"
   ]
  },
  {
   "cell_type": "code",
   "execution_count": 2,
   "metadata": {
    "_cell_guid": "79c7e3d0-c299-4dcb-8224-4455121ee9b0",
    "_uuid": "d629ff2d2480ee46fbb7e2d37f6b5fab8052498a",
    "execution": {
     "iopub.execute_input": "2025-04-06T02:34:19.085733Z",
     "iopub.status.busy": "2025-04-06T02:34:19.085455Z",
     "iopub.status.idle": "2025-04-06T02:34:24.801564Z",
     "shell.execute_reply": "2025-04-06T02:34:24.800962Z",
     "shell.execute_reply.started": "2025-04-06T02:34:19.085705Z"
    },
    "trusted": true
   },
   "outputs": [],
   "source": [
    "import numpy as np\n",
    "import pandas as pd\n",
    "from keras.preprocessing.image import ImageDataGenerator\n",
    "import os\n",
    "import random \n",
    "import cv2\n",
    "import imutils\n",
    "import random\n",
    "import matplotlib.pyplot as plt\n",
    "import seaborn as sns\n",
    "from sklearn.preprocessing import LabelBinarizer\n",
    "from keras.utils import np_utils\n",
    "from keras.models import Sequential\n",
    "from keras import optimizers\n",
    "from sklearn.preprocessing import LabelBinarizer\n",
    "from keras import backend as K\n",
    "from keras.layers import Dense, Activation, Flatten, Dense,MaxPooling2D, Dropout\n",
    "from keras.layers import Conv2D, MaxPooling2D, BatchNormalization"
   ]
  },
  {
   "cell_type": "code",
   "execution_count": 3,
   "metadata": {
    "execution": {
     "iopub.execute_input": "2025-04-06T02:34:24.802807Z",
     "iopub.status.busy": "2025-04-06T02:34:24.802558Z",
     "iopub.status.idle": "2025-04-06T02:52:21.042155Z",
     "shell.execute_reply": "2025-04-06T02:52:21.041449Z",
     "shell.execute_reply.started": "2025-04-06T02:34:24.802782Z"
    },
    "trusted": true
   },
   "outputs": [],
   "source": [
    "dir = \"../input/handwritten-characters/Train/\"\n",
    "train_data = []\n",
    "img_size = 32\n",
    "non_chars = [\"#\",\"$\",\"&\",\"@\"]\n",
    "for i in os.listdir(dir):\n",
    "    if i in non_chars:\n",
    "        continue\n",
    "    count = 0\n",
    "    sub_directory = os.path.join(dir,i)\n",
    "    for j in os.listdir(sub_directory):\n",
    "        count+=1\n",
    "        if count > 4000:\n",
    "            break\n",
    "        img = cv2.imread(os.path.join(sub_directory,j),0)\n",
    "        img = cv2.resize(img,(img_size,img_size))\n",
    "        train_data.append([img,i])"
   ]
  },
  {
   "cell_type": "code",
   "execution_count": 4,
   "metadata": {
    "execution": {
     "iopub.execute_input": "2025-04-06T02:52:21.043847Z",
     "iopub.status.busy": "2025-04-06T02:52:21.043559Z",
     "iopub.status.idle": "2025-04-06T02:52:21.049705Z",
     "shell.execute_reply": "2025-04-06T02:52:21.048838Z",
     "shell.execute_reply.started": "2025-04-06T02:52:21.043822Z"
    },
    "trusted": true
   },
   "outputs": [
    {
     "data": {
      "text/plain": [
       "140000"
      ]
     },
     "execution_count": 4,
     "metadata": {},
     "output_type": "execute_result"
    }
   ],
   "source": [
    "len(train_data)"
   ]
  },
  {
   "cell_type": "code",
   "execution_count": 5,
   "metadata": {
    "execution": {
     "iopub.execute_input": "2025-04-06T02:52:21.053253Z",
     "iopub.status.busy": "2025-04-06T02:52:21.052905Z",
     "iopub.status.idle": "2025-04-06T02:54:12.495460Z",
     "shell.execute_reply": "2025-04-06T02:54:12.494699Z",
     "shell.execute_reply.started": "2025-04-06T02:52:21.053218Z"
    },
    "trusted": true
   },
   "outputs": [],
   "source": [
    "val_dir = \"../input/handwritten-characters/Validation/\"\n",
    "val_data = []\n",
    "img_size = 32\n",
    "for i in os.listdir(val_dir):\n",
    "    if i in non_chars:\n",
    "        continue\n",
    "    count = 0\n",
    "    sub_directory = os.path.join(val_dir,i)\n",
    "    for j in os.listdir(sub_directory):\n",
    "        count+=1\n",
    "        if count > 1000:\n",
    "            break\n",
    "        img = cv2.imread(os.path.join(sub_directory,j),0)\n",
    "        img = cv2.resize(img,(img_size,img_size))\n",
    "        val_data.append([img,i])"
   ]
  },
  {
   "cell_type": "code",
   "execution_count": 6,
   "metadata": {
    "execution": {
     "iopub.execute_input": "2025-04-06T02:54:12.498600Z",
     "iopub.status.busy": "2025-04-06T02:54:12.498226Z",
     "iopub.status.idle": "2025-04-06T02:54:12.504017Z",
     "shell.execute_reply": "2025-04-06T02:54:12.503268Z",
     "shell.execute_reply.started": "2025-04-06T02:54:12.498544Z"
    },
    "trusted": true
   },
   "outputs": [
    {
     "data": {
      "text/plain": [
       "15209"
      ]
     },
     "execution_count": 6,
     "metadata": {},
     "output_type": "execute_result"
    }
   ],
   "source": [
    "len(val_data)"
   ]
  },
  {
   "cell_type": "code",
   "execution_count": 7,
   "metadata": {
    "execution": {
     "iopub.execute_input": "2025-04-06T02:54:12.505112Z",
     "iopub.status.busy": "2025-04-06T02:54:12.504848Z",
     "iopub.status.idle": "2025-04-06T02:54:12.630463Z",
     "shell.execute_reply": "2025-04-06T02:54:12.629946Z",
     "shell.execute_reply.started": "2025-04-06T02:54:12.505089Z"
    },
    "trusted": true
   },
   "outputs": [],
   "source": [
    "random.shuffle(train_data)\n",
    "random.shuffle(val_data)"
   ]
  },
  {
   "cell_type": "code",
   "execution_count": 8,
   "metadata": {
    "execution": {
     "iopub.execute_input": "2025-04-06T02:54:12.631503Z",
     "iopub.status.busy": "2025-04-06T02:54:12.631299Z",
     "iopub.status.idle": "2025-04-06T02:54:12.687902Z",
     "shell.execute_reply": "2025-04-06T02:54:12.687381Z",
     "shell.execute_reply.started": "2025-04-06T02:54:12.631482Z"
    },
    "trusted": true
   },
   "outputs": [],
   "source": [
    "train_X = []\n",
    "train_Y = []\n",
    "for features,label in train_data:\n",
    "    train_X.append(features)\n",
    "    train_Y.append(label)"
   ]
  },
  {
   "cell_type": "code",
   "execution_count": 9,
   "metadata": {
    "execution": {
     "iopub.execute_input": "2025-04-06T02:54:12.689448Z",
     "iopub.status.busy": "2025-04-06T02:54:12.689112Z",
     "iopub.status.idle": "2025-04-06T02:54:12.698950Z",
     "shell.execute_reply": "2025-04-06T02:54:12.698133Z",
     "shell.execute_reply.started": "2025-04-06T02:54:12.689413Z"
    },
    "trusted": true
   },
   "outputs": [],
   "source": [
    "val_X = []\n",
    "val_Y = []\n",
    "for features,label in val_data:\n",
    "    val_X.append(features)\n",
    "    val_Y.append(label)"
   ]
  },
  {
   "cell_type": "code",
   "execution_count": 10,
   "metadata": {
    "execution": {
     "iopub.execute_input": "2025-04-06T02:54:12.700681Z",
     "iopub.status.busy": "2025-04-06T02:54:12.700167Z",
     "iopub.status.idle": "2025-04-06T02:54:12.923515Z",
     "shell.execute_reply": "2025-04-06T02:54:12.922778Z",
     "shell.execute_reply.started": "2025-04-06T02:54:12.700644Z"
    },
    "trusted": true
   },
   "outputs": [],
   "source": [
    "LB = LabelBinarizer()\n",
    "train_Y = LB.fit_transform(train_Y)\n",
    "val_Y = LB.fit_transform(val_Y)"
   ]
  },
  {
   "cell_type": "code",
   "execution_count": 11,
   "metadata": {
    "execution": {
     "iopub.execute_input": "2025-04-06T02:54:12.924850Z",
     "iopub.status.busy": "2025-04-06T02:54:12.924540Z",
     "iopub.status.idle": "2025-04-06T02:54:13.481676Z",
     "shell.execute_reply": "2025-04-06T02:54:13.481043Z",
     "shell.execute_reply.started": "2025-04-06T02:54:12.924825Z"
    },
    "trusted": true
   },
   "outputs": [],
   "source": [
    "train_X = np.array(train_X)/255.0\n",
    "train_X = train_X.reshape(-1,32,32,1)\n",
    "train_Y = np.array(train_Y)"
   ]
  },
  {
   "cell_type": "code",
   "execution_count": 12,
   "metadata": {
    "execution": {
     "iopub.execute_input": "2025-04-06T02:54:13.483351Z",
     "iopub.status.busy": "2025-04-06T02:54:13.483005Z",
     "iopub.status.idle": "2025-04-06T02:54:13.546292Z",
     "shell.execute_reply": "2025-04-06T02:54:13.545676Z",
     "shell.execute_reply.started": "2025-04-06T02:54:13.483301Z"
    },
    "trusted": true
   },
   "outputs": [],
   "source": [
    "val_X = np.array(val_X)/255.0\n",
    "val_X = val_X.reshape(-1,32,32,1)\n",
    "val_Y = np.array(val_Y)"
   ]
  },
  {
   "cell_type": "code",
   "execution_count": 13,
   "metadata": {
    "execution": {
     "iopub.execute_input": "2025-04-06T02:54:13.547681Z",
     "iopub.status.busy": "2025-04-06T02:54:13.547431Z",
     "iopub.status.idle": "2025-04-06T02:54:13.551371Z",
     "shell.execute_reply": "2025-04-06T02:54:13.550692Z",
     "shell.execute_reply.started": "2025-04-06T02:54:13.547655Z"
    },
    "trusted": true
   },
   "outputs": [
    {
     "name": "stdout",
     "output_type": "stream",
     "text": [
      "(140000, 32, 32, 1) (15209, 32, 32, 1)\n"
     ]
    }
   ],
   "source": [
    "print(train_X.shape,val_X.shape)"
   ]
  },
  {
   "cell_type": "code",
   "execution_count": 14,
   "metadata": {
    "execution": {
     "iopub.execute_input": "2025-04-06T02:54:13.552661Z",
     "iopub.status.busy": "2025-04-06T02:54:13.552388Z",
     "iopub.status.idle": "2025-04-06T02:54:13.560973Z",
     "shell.execute_reply": "2025-04-06T02:54:13.560188Z",
     "shell.execute_reply.started": "2025-04-06T02:54:13.552637Z"
    },
    "trusted": true
   },
   "outputs": [
    {
     "name": "stdout",
     "output_type": "stream",
     "text": [
      "(140000, 35) (15209, 35)\n"
     ]
    }
   ],
   "source": [
    "print(train_Y.shape,val_Y.shape)"
   ]
  },
  {
   "cell_type": "code",
   "execution_count": 17,
   "metadata": {
    "execution": {
     "iopub.execute_input": "2025-04-06T03:11:08.293867Z",
     "iopub.status.busy": "2025-04-06T03:11:08.293457Z",
     "iopub.status.idle": "2025-04-06T03:11:08.301628Z",
     "shell.execute_reply": "2025-04-06T03:11:08.300830Z",
     "shell.execute_reply.started": "2025-04-06T03:11:08.293840Z"
    },
    "trusted": true
   },
   "outputs": [],
   "source": [
    "# Import additional layers for ResNet\n",
    "from keras.layers import Input, Add, Conv2D, MaxPooling2D, BatchNormalization, Activation, Flatten, Dense, Dropout\n",
    "from keras.models import Model\n",
    "\n",
    "# Define a residual block\n",
    "def residual_block(x, filters, kernel_size=3, stride=1):\n",
    "    y = Conv2D(filters, kernel_size=kernel_size, strides=stride, padding='same')(x)\n",
    "    y = BatchNormalization()(y)\n",
    "    y = Activation('relu')(y)\n",
    "    \n",
    "    y = Conv2D(filters, kernel_size=kernel_size, strides=1, padding='same')(y)\n",
    "    y = BatchNormalization()(y)\n",
    "    \n",
    "    if stride != 1 or x.shape[-1] != filters:\n",
    "        x = Conv2D(filters, kernel_size=1, strides=stride, padding='same')(x)\n",
    "        x = BatchNormalization()(x)\n",
    "    \n",
    "    out = Add()([x, y])\n",
    "    out = Activation('relu')(out)\n",
    "    return out"
   ]
  },
  {
   "cell_type": "code",
   "execution_count": 18,
   "metadata": {
    "execution": {
     "iopub.execute_input": "2025-04-06T03:11:38.308338Z",
     "iopub.status.busy": "2025-04-06T03:11:38.308032Z",
     "iopub.status.idle": "2025-04-06T03:11:41.411829Z",
     "shell.execute_reply": "2025-04-06T03:11:41.410980Z",
     "shell.execute_reply.started": "2025-04-06T03:11:38.308312Z"
    },
    "trusted": true
   },
   "outputs": [
    {
     "name": "stdout",
     "output_type": "stream",
     "text": [
      "Model: \"functional_1\"\n",
      "__________________________________________________________________________________________________\n",
      "Layer (type)                    Output Shape         Param #     Connected to                     \n",
      "==================================================================================================\n",
      "input_1 (InputLayer)            [(None, 32, 32, 1)]  0                                            \n",
      "__________________________________________________________________________________________________\n",
      "conv2d (Conv2D)                 (None, 32, 32, 32)   320         input_1[0][0]                    \n",
      "__________________________________________________________________________________________________\n",
      "batch_normalization (BatchNorma (None, 32, 32, 32)   128         conv2d[0][0]                     \n",
      "__________________________________________________________________________________________________\n",
      "max_pooling2d (MaxPooling2D)    (None, 16, 16, 32)   0           batch_normalization[0][0]        \n",
      "__________________________________________________________________________________________________\n",
      "conv2d_1 (Conv2D)               (None, 16, 16, 64)   18496       max_pooling2d[0][0]              \n",
      "__________________________________________________________________________________________________\n",
      "batch_normalization_1 (BatchNor (None, 16, 16, 64)   256         conv2d_1[0][0]                   \n",
      "__________________________________________________________________________________________________\n",
      "activation (Activation)         (None, 16, 16, 64)   0           batch_normalization_1[0][0]      \n",
      "__________________________________________________________________________________________________\n",
      "conv2d_3 (Conv2D)               (None, 16, 16, 64)   2112        max_pooling2d[0][0]              \n",
      "__________________________________________________________________________________________________\n",
      "conv2d_2 (Conv2D)               (None, 16, 16, 64)   36928       activation[0][0]                 \n",
      "__________________________________________________________________________________________________\n",
      "batch_normalization_3 (BatchNor (None, 16, 16, 64)   256         conv2d_3[0][0]                   \n",
      "__________________________________________________________________________________________________\n",
      "batch_normalization_2 (BatchNor (None, 16, 16, 64)   256         conv2d_2[0][0]                   \n",
      "__________________________________________________________________________________________________\n",
      "add (Add)                       (None, 16, 16, 64)   0           batch_normalization_3[0][0]      \n",
      "                                                                 batch_normalization_2[0][0]      \n",
      "__________________________________________________________________________________________________\n",
      "activation_1 (Activation)       (None, 16, 16, 64)   0           add[0][0]                        \n",
      "__________________________________________________________________________________________________\n",
      "conv2d_4 (Conv2D)               (None, 16, 16, 64)   36928       activation_1[0][0]               \n",
      "__________________________________________________________________________________________________\n",
      "batch_normalization_4 (BatchNor (None, 16, 16, 64)   256         conv2d_4[0][0]                   \n",
      "__________________________________________________________________________________________________\n",
      "activation_2 (Activation)       (None, 16, 16, 64)   0           batch_normalization_4[0][0]      \n",
      "__________________________________________________________________________________________________\n",
      "conv2d_5 (Conv2D)               (None, 16, 16, 64)   36928       activation_2[0][0]               \n",
      "__________________________________________________________________________________________________\n",
      "batch_normalization_5 (BatchNor (None, 16, 16, 64)   256         conv2d_5[0][0]                   \n",
      "__________________________________________________________________________________________________\n",
      "add_1 (Add)                     (None, 16, 16, 64)   0           activation_1[0][0]               \n",
      "                                                                 batch_normalization_5[0][0]      \n",
      "__________________________________________________________________________________________________\n",
      "activation_3 (Activation)       (None, 16, 16, 64)   0           add_1[0][0]                      \n",
      "__________________________________________________________________________________________________\n",
      "max_pooling2d_1 (MaxPooling2D)  (None, 8, 8, 64)     0           activation_3[0][0]               \n",
      "__________________________________________________________________________________________________\n",
      "conv2d_6 (Conv2D)               (None, 8, 8, 128)    73856       max_pooling2d_1[0][0]            \n",
      "__________________________________________________________________________________________________\n",
      "batch_normalization_6 (BatchNor (None, 8, 8, 128)    512         conv2d_6[0][0]                   \n",
      "__________________________________________________________________________________________________\n",
      "activation_4 (Activation)       (None, 8, 8, 128)    0           batch_normalization_6[0][0]      \n",
      "__________________________________________________________________________________________________\n",
      "conv2d_8 (Conv2D)               (None, 8, 8, 128)    8320        max_pooling2d_1[0][0]            \n",
      "__________________________________________________________________________________________________\n",
      "conv2d_7 (Conv2D)               (None, 8, 8, 128)    147584      activation_4[0][0]               \n",
      "__________________________________________________________________________________________________\n",
      "batch_normalization_8 (BatchNor (None, 8, 8, 128)    512         conv2d_8[0][0]                   \n",
      "__________________________________________________________________________________________________\n",
      "batch_normalization_7 (BatchNor (None, 8, 8, 128)    512         conv2d_7[0][0]                   \n",
      "__________________________________________________________________________________________________\n",
      "add_2 (Add)                     (None, 8, 8, 128)    0           batch_normalization_8[0][0]      \n",
      "                                                                 batch_normalization_7[0][0]      \n",
      "__________________________________________________________________________________________________\n",
      "activation_5 (Activation)       (None, 8, 8, 128)    0           add_2[0][0]                      \n",
      "__________________________________________________________________________________________________\n",
      "max_pooling2d_2 (MaxPooling2D)  (None, 4, 4, 128)    0           activation_5[0][0]               \n",
      "__________________________________________________________________________________________________\n",
      "flatten (Flatten)               (None, 2048)         0           max_pooling2d_2[0][0]            \n",
      "__________________________________________________________________________________________________\n",
      "dense (Dense)                   (None, 128)          262272      flatten[0][0]                    \n",
      "__________________________________________________________________________________________________\n",
      "dropout (Dropout)               (None, 128)          0           dense[0][0]                      \n",
      "__________________________________________________________________________________________________\n",
      "dense_1 (Dense)                 (None, 35)           4515        dropout[0][0]                    \n",
      "==================================================================================================\n",
      "Total params: 631,203\n",
      "Trainable params: 629,731\n",
      "Non-trainable params: 1,472\n",
      "__________________________________________________________________________________________________\n"
     ]
    }
   ],
   "source": [
    "# Build the ResNet-inspired model\n",
    "inputs = Input(shape=(32, 32, 1))\n",
    "x = Conv2D(32, (3, 3), padding='same', activation='relu')(inputs)\n",
    "x = BatchNormalization()(x)\n",
    "x = MaxPooling2D(pool_size=(2, 2))(x)\n",
    "\n",
    "x = residual_block(x, filters=64)\n",
    "x = residual_block(x, filters=64)\n",
    "x = MaxPooling2D(pool_size=(2, 2))(x)\n",
    "\n",
    "x = residual_block(x, filters=128)\n",
    "x = MaxPooling2D(pool_size=(2, 2))(x)\n",
    "\n",
    "x = Flatten()(x)\n",
    "x = Dense(128, activation='relu')(x)\n",
    "x = Dropout(0.25)(x)\n",
    "outputs = Dense(35, activation='softmax')(x)\n",
    "\n",
    "model = Model(inputs=inputs, outputs=outputs)\n",
    "model.summary()"
   ]
  },
  {
   "cell_type": "code",
   "execution_count": 19,
   "metadata": {
    "execution": {
     "iopub.execute_input": "2025-04-06T03:11:57.629232Z",
     "iopub.status.busy": "2025-04-06T03:11:57.628937Z",
     "iopub.status.idle": "2025-04-06T03:15:58.613380Z",
     "shell.execute_reply": "2025-04-06T03:15:58.612709Z",
     "shell.execute_reply.started": "2025-04-06T03:11:57.629206Z"
    },
    "trusted": true
   },
   "outputs": [
    {
     "name": "stdout",
     "output_type": "stream",
     "text": [
      "Epoch 1/10\n",
      "4375/4375 [==============================] - 23s 5ms/step - loss: 0.9949 - accuracy: 0.6805 - val_loss: 0.4729 - val_accuracy: 0.8502\n",
      "Epoch 2/10\n",
      "4375/4375 [==============================] - 23s 5ms/step - loss: 0.5714 - accuracy: 0.8116 - val_loss: 0.3457 - val_accuracy: 0.8943\n",
      "Epoch 3/10\n",
      "4375/4375 [==============================] - 23s 5ms/step - loss: 0.3703 - accuracy: 0.8790 - val_loss: 0.2457 - val_accuracy: 0.9243\n",
      "Epoch 4/10\n",
      "4375/4375 [==============================] - 24s 5ms/step - loss: 0.2938 - accuracy: 0.9036 - val_loss: 0.3068 - val_accuracy: 0.8732\n",
      "Epoch 5/10\n",
      "4375/4375 [==============================] - 24s 5ms/step - loss: 0.2501 - accuracy: 0.9168 - val_loss: 0.2300 - val_accuracy: 0.9243\n",
      "Epoch 6/10\n",
      "4375/4375 [==============================] - 24s 5ms/step - loss: 0.2252 - accuracy: 0.9241 - val_loss: 0.2414 - val_accuracy: 0.9106\n",
      "Epoch 7/10\n",
      "4375/4375 [==============================] - 24s 5ms/step - loss: 0.2076 - accuracy: 0.9285 - val_loss: 0.3105 - val_accuracy: 0.8921\n",
      "Epoch 8/10\n",
      "4375/4375 [==============================] - 24s 5ms/step - loss: 0.1894 - accuracy: 0.9332 - val_loss: 0.2505 - val_accuracy: 0.9143\n",
      "Epoch 9/10\n",
      "4375/4375 [==============================] - 24s 5ms/step - loss: 0.1766 - accuracy: 0.9369 - val_loss: 0.2571 - val_accuracy: 0.9109\n",
      "Epoch 10/10\n",
      "4375/4375 [==============================] - 24s 5ms/step - loss: 0.1646 - accuracy: 0.9395 - val_loss: 0.2205 - val_accuracy: 0.9302\n"
     ]
    }
   ],
   "source": [
    "model.compile(loss='categorical_crossentropy', optimizer='adam', metrics=['accuracy'])\n",
    "history = model.fit(train_X, train_Y, epochs=10, batch_size=32, validation_data=(val_X, val_Y), verbose=1)"
   ]
  },
  {
   "cell_type": "code",
   "execution_count": 20,
   "metadata": {
    "execution": {
     "iopub.execute_input": "2025-04-06T03:16:12.181963Z",
     "iopub.status.busy": "2025-04-06T03:16:12.181569Z",
     "iopub.status.idle": "2025-04-06T03:16:12.366553Z",
     "shell.execute_reply": "2025-04-06T03:16:12.365575Z",
     "shell.execute_reply.started": "2025-04-06T03:16:12.181927Z"
    },
    "trusted": true
   },
   "outputs": [
    {
     "data": {
      "image/png": "[encoded data removed]",
      "text/plain": [
       "<Figure size 432x288 with 1 Axes>"
      ]
     },
     "metadata": {
      "needs_background": "light"
     },
     "output_type": "display_data"
    }
   ],
   "source": [
    "# Plot accuracy and loss\n",
    "plt.plot(history.history['accuracy'])\n",
    "plt.plot(history.history['val_accuracy'])\n",
    "plt.title('Training Accuracy vs Validation Accuracy')\n",
    "plt.ylabel('Accuracy')\n",
    "plt.xlabel('Epoch')\n",
    "plt.legend(['Train', 'Validation'], loc='upper left')\n",
    "plt.show()"
   ]
  },
  {
   "cell_type": "code",
   "execution_count": 21,
   "metadata": {
    "execution": {
     "iopub.execute_input": "2025-04-06T03:16:22.114003Z",
     "iopub.status.busy": "2025-04-06T03:16:22.113716Z",
     "iopub.status.idle": "2025-04-06T03:16:22.237671Z",
     "shell.execute_reply": "2025-04-06T03:16:22.236691Z",
     "shell.execute_reply.started": "2025-04-06T03:16:22.113980Z"
    },
    "trusted": true
   },
   "outputs": [
    {
     "data": {
      "image/png": "[encoded data removed]",
      "text/plain": [
       "<Figure size 432x288 with 1 Axes>"
      ]
     },
     "metadata": {
      "needs_background": "light"
     },
     "output_type": "display_data"
    }
   ],
   "source": [
    "plt.plot(history.history['loss'])\n",
    "plt.plot(history.history['val_loss'])\n",
    "plt.title('Training Loss vs Validation Loss')\n",
    "plt.ylabel('Loss')\n",
    "plt.xlabel('Epoch')\n",
    "plt.legend(['Train', 'Validation'], loc='upper left')\n",
    "plt.show()"
   ]
  },
  {
   "cell_type": "code",
   "execution_count": 22,
   "metadata": {
    "execution": {
     "iopub.execute_input": "2025-04-06T03:19:08.445511Z",
     "iopub.status.busy": "2025-04-06T03:19:08.445193Z",
     "iopub.status.idle": "2025-04-06T03:19:08.568528Z",
     "shell.execute_reply": "2025-04-06T03:19:08.567907Z",
     "shell.execute_reply.started": "2025-04-06T03:19:08.445485Z"
    },
    "trusted": true
   },
   "outputs": [],
   "source": [
    "model.save(\"model.h5\")"
   ]
  },
  {
   "cell_type": "markdown",
   "metadata": {},
   "source": [
    "## Recognition and Post-Processing \n",
    "1. The sort contours function is used to get the correct order of individual characters for correct output extraction. In this case for extracting a single word, a left to right sorting of individual characters is needed.\n",
    "2. The get letters function fetches the list of letters and get word function gets the individual word. "
   ]
  },
  {
   "cell_type": "code",
   "execution_count": 23,
   "metadata": {
    "execution": {
     "iopub.execute_input": "2025-04-06T03:19:41.905022Z",
     "iopub.status.busy": "2025-04-06T03:19:41.904726Z",
     "iopub.status.idle": "2025-04-06T03:19:41.910678Z",
     "shell.execute_reply": "2025-04-06T03:19:41.909780Z",
     "shell.execute_reply.started": "2025-04-06T03:19:41.904996Z"
    },
    "trusted": true
   },
   "outputs": [],
   "source": [
    "# Define contour sorting function (exact same as original)\n",
    "def sort_contours(cnts, method=\"left-to-right\"):\n",
    "    reverse = False\n",
    "    i = 0\n",
    "    if method == \"right-to-left\" or method == \"bottom-to-top\":\n",
    "        reverse = True\n",
    "    if method == \"top-to-bottom\" or method == \"bottom-to-top\":\n",
    "        i = 1\n",
    "    boundingBoxes = [cv2.boundingRect(c) for c in cnts]\n",
    "    (cnts, boundingBoxes) = zip(*sorted(zip(cnts, boundingBoxes),\n",
    "    key=lambda b:b[1][i], reverse=reverse))\n",
    "    return (cnts, boundingBoxes)"
   ]
  },
  {
   "cell_type": "code",
   "execution_count": 24,
   "metadata": {
    "execution": {
     "iopub.execute_input": "2025-04-06T03:19:44.304759Z",
     "iopub.status.busy": "2025-04-06T03:19:44.304438Z",
     "iopub.status.idle": "2025-04-06T03:19:44.315141Z",
     "shell.execute_reply": "2025-04-06T03:19:44.314342Z",
     "shell.execute_reply.started": "2025-04-06T03:19:44.304730Z"
    },
    "trusted": true
   },
   "outputs": [],
   "source": [
    "def get_letters(img):\n",
    "    letters = []\n",
    "    image = cv2.imread(img)\n",
    "    gray = cv2.cvtColor(image, cv2.COLOR_BGR2GRAY)\n",
    "    ret, thresh1 = cv2.threshold(gray, 127, 255, cv2.THRESH_BINARY_INV)\n",
    "    dilated = cv2.dilate(thresh1, None, iterations=2)\n",
    "\n",
    "    cnts = cv2.findContours(dilated.copy(), cv2.RETR_EXTERNAL, cv2.CHAIN_APPROX_SIMPLE)\n",
    "    cnts = imutils.grab_contours(cnts)\n",
    "    cnts = sort_contours(cnts, method=\"left-to-right\")[0]\n",
    "    \n",
    "    for c in cnts:\n",
    "        if cv2.contourArea(c) > 10:\n",
    "            (x, y, w, h) = cv2.boundingRect(c)\n",
    "            cv2.rectangle(image, (x, y), (x + w, y + h), (0, 255, 0), 2)\n",
    "        roi = gray[y:y + h, x:x + w]\n",
    "        thresh = cv2.threshold(roi, 0, 255, cv2.THRESH_BINARY_INV | cv2.THRESH_OTSU)[1]\n",
    "        thresh = cv2.resize(thresh, (32, 32), interpolation=cv2.INTER_CUBIC)\n",
    "        thresh = thresh.astype(\"float32\") / 255.0\n",
    "        thresh = np.expand_dims(thresh, axis=-1)\n",
    "        thresh = thresh.reshape(1, 32, 32, 1)\n",
    "        ypred = model.predict(thresh)\n",
    "        ypred = LB.inverse_transform(ypred)\n",
    "        [x] = ypred\n",
    "        letters.append(x)\n",
    "    return letters, image"
   ]
  },
  {
   "cell_type": "code",
   "execution_count": 25,
   "metadata": {
    "execution": {
     "iopub.execute_input": "2025-04-06T03:19:52.883862Z",
     "iopub.status.busy": "2025-04-06T03:19:52.883546Z",
     "iopub.status.idle": "2025-04-06T03:19:52.888137Z",
     "shell.execute_reply": "2025-04-06T03:19:52.886937Z",
     "shell.execute_reply.started": "2025-04-06T03:19:52.883836Z"
    },
    "trusted": true
   },
   "outputs": [],
   "source": [
    "def get_word(letter):\n",
    "    word = \"\".join(letter)\n",
    "    return word"
   ]
  },
  {
   "cell_type": "code",
   "execution_count": 26,
   "metadata": {
    "execution": {
     "iopub.execute_input": "2025-04-06T03:19:55.632732Z",
     "iopub.status.busy": "2025-04-06T03:19:55.632407Z",
     "iopub.status.idle": "2025-04-06T03:19:56.236506Z",
     "shell.execute_reply": "2025-04-06T03:19:56.235651Z",
     "shell.execute_reply.started": "2025-04-06T03:19:55.632701Z"
    },
    "trusted": true
   },
   "outputs": [
    {
     "name": "stdout",
     "output_type": "stream",
     "text": [
      "BEWE5\n"
     ]
    },
    {
     "data": {
      "text/plain": [
       "<matplotlib.image.AxesImage at 0x7bc2300c31d0>"
      ]
     },
     "execution_count": 26,
     "metadata": {},
     "output_type": "execute_result"
    },
    {
     "data": {
      "image/png": "[encoded data removed]",
      "text/plain": [
       "<Figure size 432x288 with 1 Axes>"
      ]
     },
     "metadata": {
      "needs_background": "light"
     },
     "output_type": "display_data"
    }
   ],
   "source": [
    "letter,image = get_letters(\"../input/handwriting-recognition/train_v2/train/TRAIN_00003.jpg\")\n",
    "word = get_word(letter)\n",
    "print(word)\n",
    "plt.imshow(image)"
   ]
  },
  {
   "cell_type": "code",
   "execution_count": 27,
   "metadata": {
    "execution": {
     "iopub.execute_input": "2025-04-06T03:20:03.473835Z",
     "iopub.status.busy": "2025-04-06T03:20:03.473513Z",
     "iopub.status.idle": "2025-04-06T03:20:03.768932Z",
     "shell.execute_reply": "2025-04-06T03:20:03.768304Z",
     "shell.execute_reply.started": "2025-04-06T03:20:03.473809Z"
    },
    "trusted": true
   },
   "outputs": [
    {
     "name": "stdout",
     "output_type": "stream",
     "text": [
      "LIL0U\n"
     ]
    },
    {
     "data": {
      "text/plain": [
       "<matplotlib.image.AxesImage at 0x7bc2207b4290>"
      ]
     },
     "execution_count": 27,
     "metadata": {},
     "output_type": "execute_result"
    },
    {
     "data": {
      "image/png": "[encoded data removed]",
      "text/plain": [
       "<Figure size 432x288 with 1 Axes>"
      ]
     },
     "metadata": {
      "needs_background": "light"
     },
     "output_type": "display_data"
    }
   ],
   "source": [
    "letter,image = get_letters(\"../input/handwriting-recognition/train_v2/train/TRAIN_00023.jpg\")\n",
    "word = get_word(letter)\n",
    "print(word)\n",
    "plt.imshow(image)"
   ]
  },
  {
   "cell_type": "code",
   "execution_count": 28,
   "metadata": {
    "execution": {
     "iopub.execute_input": "2025-04-06T03:20:07.219251Z",
     "iopub.status.busy": "2025-04-06T03:20:07.218959Z",
     "iopub.status.idle": "2025-04-06T03:20:07.550919Z",
     "shell.execute_reply": "2025-04-06T03:20:07.550110Z",
     "shell.execute_reply.started": "2025-04-06T03:20:07.219225Z"
    },
    "trusted": true
   },
   "outputs": [
    {
     "name": "stdout",
     "output_type": "stream",
     "text": [
      "JAFFEUX\n"
     ]
    },
    {
     "data": {
      "text/plain": [
       "<matplotlib.image.AxesImage at 0x7bc2206d9dd0>"
      ]
     },
     "execution_count": 28,
     "metadata": {},
     "output_type": "execute_result"
    },
    {
     "data": {
      "image/png": "[encoded data removed]",
      "text/plain": [
       "<Figure size 432x288 with 1 Axes>"
      ]
     },
     "metadata": {
      "needs_background": "light"
     },
     "output_type": "display_data"
    }
   ],
   "source": [
    "letter,image = get_letters(\"../input/handwriting-recognition/train_v2/train/TRAIN_00030.jpg\")\n",
    "word = get_word(letter)\n",
    "print(word)\n",
    "plt.imshow(image)"
   ]
  },
  {
   "cell_type": "code",
   "execution_count": 29,
   "metadata": {
    "execution": {
     "iopub.execute_input": "2025-04-06T03:20:12.083112Z",
     "iopub.status.busy": "2025-04-06T03:20:12.082730Z",
     "iopub.status.idle": "2025-04-06T03:20:12.330019Z",
     "shell.execute_reply": "2025-04-06T03:20:12.329337Z",
     "shell.execute_reply.started": "2025-04-06T03:20:12.083078Z"
    },
    "trusted": true
   },
   "outputs": [
    {
     "name": "stdout",
     "output_type": "stream",
     "text": [
      "RUPP\n"
     ]
    },
    {
     "data": {
      "text/plain": [
       "<matplotlib.image.AxesImage at 0x7bc2207d19d0>"
      ]
     },
     "execution_count": 29,
     "metadata": {},
     "output_type": "execute_result"
    },
    {
     "data": {
      "image/png": "[encoded data removed]",
      "text/plain": [
       "<Figure size 432x288 with 1 Axes>"
      ]
     },
     "metadata": {
      "needs_background": "light"
     },
     "output_type": "display_data"
    }
   ],
   "source": [
    "letter,image = get_letters(\"../input/handwriting-recognition/validation_v2/validation/VALIDATION_0005.jpg\")\n",
    "word = get_word(letter)\n",
    "print(word)\n",
    "plt.imshow(image)"
   ]
  },
  {
   "cell_type": "code",
   "execution_count": 30,
   "metadata": {
    "execution": {
     "iopub.execute_input": "2025-04-06T03:20:14.840235Z",
     "iopub.status.busy": "2025-04-06T03:20:14.839897Z",
     "iopub.status.idle": "2025-04-06T03:20:15.270958Z",
     "shell.execute_reply": "2025-04-06T03:20:15.270202Z",
     "shell.execute_reply.started": "2025-04-06T03:20:14.840201Z"
    },
    "trusted": true
   },
   "outputs": [
    {
     "name": "stdout",
     "output_type": "stream",
     "text": [
      "VALENTJNE\n"
     ]
    },
    {
     "data": {
      "text/plain": [
       "<matplotlib.image.AxesImage at 0x7bc22074dd10>"
      ]
     },
     "execution_count": 30,
     "metadata": {},
     "output_type": "execute_result"
    },
    {
     "data": {
      "image/png": "[encoded data removed]",
      "text/plain": [
       "<Figure size 432x288 with 1 Axes>"
      ]
     },
     "metadata": {
      "needs_background": "light"
     },
     "output_type": "display_data"
    }
   ],
   "source": [
    "letter,image = get_letters(\"../input/handwriting-recognition/test_v2/test/TEST_0007.jpg\")\n",
    "word = get_word(letter)\n",
    "print(word)\n",
    "plt.imshow(image)"
   ]
  }
 ],
 "metadata": {
  "kaggle": {
   "accelerator": "nvidiaTeslaT4",
   "dataSources": [
    {
     "datasetId": 53376,
     "sourceId": 101598,
     "sourceType": "datasetVersion"
    },
    {
     "datasetId": 818027,
     "sourceId": 1400106,
     "sourceType": "datasetVersion"
    }
   ],
   "dockerImageVersionId": 30043,
   "isGpuEnabled": true,
   "isInternetEnabled": true,
   "language": "python",
   "sourceType": "notebook"
  },
  "kernelspec": {
   "display_name": "Python 3",
   "language": "python",
   "name": "python3"
  },
  "language_info": {
   "codemirror_mode": {
    "name": "ipython",
    "version": 3
   },
   "file_extension": ".py",
   "mimetype": "text/x-python",
   "name": "python",
   "nbconvert_exporter": "python",
   "pygments_lexer": "ipython3",
   "version": "3.7.6"
  }
 },
 "nbformat": 4,
 "nbformat_minor": 4
}
